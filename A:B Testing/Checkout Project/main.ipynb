{
 "cells": [
  {
   "cell_type": "markdown",
   "metadata": {},
   "source": [
    "# Checkout Project"
   ]
  },
  {
   "cell_type": "code",
   "execution_count": 42,
   "metadata": {},
   "outputs": [],
   "source": [
    "# Import package\n",
    "import pandas as pd\n",
    "import seaborn as sns\n",
    "import matplotlib.pyplot as plt\n",
    "from scipy.stats import binom\n",
    "import numpy as np"
   ]
  },
  {
   "cell_type": "code",
   "execution_count": 43,
   "metadata": {},
   "outputs": [],
   "source": [
    "checkout = pd.read_csv('/Checkout Project/checkout.csv')"
   ]
  },
  {
   "cell_type": "code",
   "execution_count": 44,
   "metadata": {},
   "outputs": [
    {
     "name": "stdout",
     "output_type": "stream",
     "text": [
      "<class 'pandas.core.frame.DataFrame'>\n",
      "RangeIndex: 9000 entries, 0 to 8999\n",
      "Data columns (total 8 columns):\n",
      " #   Column         Non-Null Count  Dtype  \n",
      "---  ------         --------------  -----  \n",
      " 0   Unnamed: 0     9000 non-null   int64  \n",
      " 1   user_id        9000 non-null   int64  \n",
      " 2   checkout_page  9000 non-null   object \n",
      " 3   order_value    7605 non-null   float64\n",
      " 4   purchased      9000 non-null   float64\n",
      " 5   gender         9000 non-null   object \n",
      " 6   browser        9000 non-null   object \n",
      " 7   time_on_page   9000 non-null   float64\n",
      "dtypes: float64(3), int64(2), object(3)\n",
      "memory usage: 562.6+ KB\n"
     ]
    }
   ],
   "source": [
    "checkout.info()"
   ]
  },
  {
   "cell_type": "code",
   "execution_count": 45,
   "metadata": {},
   "outputs": [
    {
     "data": {
      "text/plain": [
       "gender\n",
       "F    0.507556\n",
       "M    0.492444\n",
       "Name: proportion, dtype: float64"
      ]
     },
     "execution_count": 45,
     "metadata": {},
     "output_type": "execute_result"
    }
   ],
   "source": [
    "# Count gender \n",
    "checkout['gender'].value_counts(normalize=True)"
   ]
  },
  {
   "cell_type": "code",
   "execution_count": 46,
   "metadata": {},
   "outputs": [
    {
     "data": {
      "text/plain": [
       "checkout_page  gender\n",
       "A              M         0.505000\n",
       "               F         0.495000\n",
       "B              F         0.507333\n",
       "               M         0.492667\n",
       "C              F         0.520333\n",
       "               M         0.479667\n",
       "Name: proportion, dtype: float64"
      ]
     },
     "execution_count": 46,
     "metadata": {},
     "output_type": "execute_result"
    }
   ],
   "source": [
    "# Count gender and group by checkoutpage\n",
    "checkout.groupby('checkout_page')['gender'].value_counts(normalize=True)"
   ]
  },
  {
   "cell_type": "code",
   "execution_count": 47,
   "metadata": {},
   "outputs": [
    {
     "data": {
      "text/plain": [
       "gender\n",
       "F    0.908056\n",
       "M    0.780009\n",
       "Name: purchased, dtype: float64"
      ]
     },
     "execution_count": 47,
     "metadata": {},
     "output_type": "execute_result"
    }
   ],
   "source": [
    "# Metrics estimation\n",
    "checkout.groupby('gender')['purchased'].mean()"
   ]
  },
  {
   "cell_type": "code",
   "execution_count": 48,
   "metadata": {},
   "outputs": [
    {
     "data": {
      "text/plain": [
       "gender\n",
       "F    29.814161\n",
       "M    30.383431\n",
       "Name: order_value, dtype: float64"
      ]
     },
     "execution_count": 48,
     "metadata": {},
     "output_type": "execute_result"
    }
   ],
   "source": [
    "checkout[(checkout['browser']=='chrome')|(checkout['browser']=='safari')].groupby('gender')['order_value'].mean() "
   ]
  },
  {
   "cell_type": "code",
   "execution_count": 49,
   "metadata": {},
   "outputs": [
    {
     "data": {
      "text/html": [
       "<div>\n",
       "<style scoped>\n",
       "    .dataframe tbody tr th:only-of-type {\n",
       "        vertical-align: middle;\n",
       "    }\n",
       "\n",
       "    .dataframe tbody tr th {\n",
       "        vertical-align: top;\n",
       "    }\n",
       "\n",
       "    .dataframe thead th {\n",
       "        text-align: right;\n",
       "    }\n",
       "</style>\n",
       "<table border=\"1\" class=\"dataframe\">\n",
       "  <thead>\n",
       "    <tr style=\"text-align: right;\">\n",
       "      <th></th>\n",
       "      <th>order_value</th>\n",
       "      <th>purchased</th>\n",
       "    </tr>\n",
       "    <tr>\n",
       "      <th>browser</th>\n",
       "      <th></th>\n",
       "      <th></th>\n",
       "    </tr>\n",
       "  </thead>\n",
       "  <tbody>\n",
       "    <tr>\n",
       "      <th>chrome</th>\n",
       "      <td>30.016625</td>\n",
       "      <td>0.839088</td>\n",
       "    </tr>\n",
       "    <tr>\n",
       "      <th>firefox</th>\n",
       "      <td>29.887491</td>\n",
       "      <td>0.851725</td>\n",
       "    </tr>\n",
       "    <tr>\n",
       "      <th>safari</th>\n",
       "      <td>30.119808</td>\n",
       "      <td>0.844337</td>\n",
       "    </tr>\n",
       "  </tbody>\n",
       "</table>\n",
       "</div>"
      ],
      "text/plain": [
       "         order_value  purchased\n",
       "browser                        \n",
       "chrome     30.016625   0.839088\n",
       "firefox    29.887491   0.851725\n",
       "safari     30.119808   0.844337"
      ]
     },
     "execution_count": 49,
     "metadata": {},
     "output_type": "execute_result"
    }
   ],
   "source": [
    "checkout.groupby('browser')[['order_value', 'purchased']].mean()\n"
   ]
  },
  {
   "cell_type": "code",
   "execution_count": 50,
   "metadata": {},
   "outputs": [
    {
     "name": "stdout",
     "output_type": "stream",
     "text": [
      "Group A users: 3000\n",
      "Group B users: 3000\n"
     ]
    }
   ],
   "source": [
    "# Sample statistics\n",
    "# Calculate the number of users in groups A and B\n",
    "user_groupA = checkout[checkout['checkout_page'] == 'A']['purchased'].count() \n",
    "user_groupB = checkout[checkout['checkout_page'] == 'B']['purchased'].count() \n",
    "\n",
    "print('Group A users:',user_groupA) \n",
    "print('Group B users:',user_groupB)"
   ]
  },
  {
   "cell_type": "code",
   "execution_count": 51,
   "metadata": {},
   "outputs": [
    {
     "name": "stdout",
     "output_type": "stream",
     "text": [
      "Group A mean purchase rate: 0.820\n",
      "Group B mean purchase rate: 0.847\n"
     ]
    }
   ],
   "source": [
    "# Calculate the mean purchase rates of groups A and B\n",
    "group_meanA = checkout[checkout['checkout_page'] == 'A']['purchased'].mean() \n",
    "group_meanB = checkout[checkout['checkout_page'] == 'B']['purchased'].mean() \n",
    "\n",
    "print(f'Group A mean purchase rate: {group_meanA:.3f}') \n",
    "print(f'Group B mean purchase rate: {group_meanB:.3f}')"
   ]
  },
  {
   "cell_type": "code",
   "execution_count": 52,
   "metadata": {},
   "outputs": [
    {
     "data": {
      "image/png": "[encoded data removed]",
      "text/plain": [
       "<Figure size 640x480 with 1 Axes>"
      ]
     },
     "metadata": {},
     "output_type": "display_data"
    }
   ],
   "source": [
    "# Plotting distributions\n",
    "# Create x-axis range and Binomial distributions A and B\n",
    "x = np.arange(user_groupA*group_meanA - 100, user_groupB*group_meanB + 100)  \n",
    "binom_a = binom.pmf(x, user_groupA, group_meanA) \n",
    "binom_b = binom.pmf(x, user_groupB, group_meanB)\n",
    "\n",
    "# Plot Binomial distributions A and B \n",
    "plt.bar(x, binom_a, alpha=0.4, label='Checkout A') \n",
    "plt.bar(x, binom_b, alpha=0.4, label='Checkout B') \n",
    "plt.xlabel('Purchased') \n",
    "plt.ylabel('PMF') \n",
    "plt.title('PMF of Checkouts Binomial distribution') \n",
    "plt.show()"
   ]
  },
  {
   "cell_type": "code",
   "execution_count": 53,
   "metadata": {},
   "outputs": [
    {
     "data": {
      "text/plain": [
       "np.float64(30.00969175937724)"
      ]
     },
     "execution_count": 53,
     "metadata": {},
     "output_type": "execute_result"
    }
   ],
   "source": [
    "# Calculate the mean order value\n",
    "checkout.order_value.mean()"
   ]
  },
  {
   "cell_type": "code",
   "execution_count": 54,
   "metadata": {},
   "outputs": [
    {
     "data": {
      "text/plain": [
       "np.float64(25.358189536673766)"
      ]
     },
     "execution_count": 54,
     "metadata": {},
     "output_type": "execute_result"
    }
   ],
   "source": [
    "# Replace missing values with zeros and get mean \n",
    "checkout['order_value'].fillna(0).mean()"
   ]
  },
  {
   "cell_type": "code",
   "execution_count": 55,
   "metadata": {},
   "outputs": [
    {
     "name": "stdout",
     "output_type": "stream",
     "text": [
      "9000\n",
      "9000\n"
     ]
    }
   ],
   "source": [
    "# Check for duplicate rows due to logging issues\n",
    "print(len(checkout))\n",
    "print(len(checkout.drop_duplicates(keep='first')))"
   ]
  },
  {
   "cell_type": "code",
   "execution_count": 56,
   "metadata": {},
   "outputs": [
    {
     "name": "stdout",
     "output_type": "stream",
     "text": [
      "2938\n",
      "2491.0\n",
      "2541.0\n"
     ]
    }
   ],
   "source": [
    "# Unique users in group B \n",
    "print(checkout[checkout['checkout_page'] == 'B']['user_id'].nunique())\n",
    "# Unique users who purchased at least once \n",
    "print(checkout[checkout['checkout_page'] == 'B'].groupby('user_id')['purchased'].max().sum())\n",
    "# Total purchase events in group B\n",
    "print(checkout[checkout['checkout_page'] == 'B']['purchased'].sum())"
   ]
  },
  {
   "cell_type": "code",
   "execution_count": 57,
   "metadata": {},
   "outputs": [
    {
     "data": {
      "text/html": [
       "<div>\n",
       "<style scoped>\n",
       "    .dataframe tbody tr th:only-of-type {\n",
       "        vertical-align: middle;\n",
       "    }\n",
       "\n",
       "    .dataframe tbody tr th {\n",
       "        vertical-align: top;\n",
       "    }\n",
       "\n",
       "    .dataframe thead th {\n",
       "        text-align: right;\n",
       "    }\n",
       "</style>\n",
       "<table border=\"1\" class=\"dataframe\">\n",
       "  <thead>\n",
       "    <tr style=\"text-align: right;\">\n",
       "      <th></th>\n",
       "      <th>count</th>\n",
       "      <th>std</th>\n",
       "      <th>mean</th>\n",
       "    </tr>\n",
       "    <tr>\n",
       "      <th>checkout_page</th>\n",
       "      <th></th>\n",
       "      <th></th>\n",
       "      <th></th>\n",
       "    </tr>\n",
       "  </thead>\n",
       "  <tbody>\n",
       "    <tr>\n",
       "      <th>A</th>\n",
       "      <td>2461</td>\n",
       "      <td>2.418837</td>\n",
       "      <td>24.956437</td>\n",
       "    </tr>\n",
       "    <tr>\n",
       "      <th>B</th>\n",
       "      <td>2541</td>\n",
       "      <td>7.277644</td>\n",
       "      <td>29.876202</td>\n",
       "    </tr>\n",
       "    <tr>\n",
       "      <th>C</th>\n",
       "      <td>2603</td>\n",
       "      <td>4.869816</td>\n",
       "      <td>34.917589</td>\n",
       "    </tr>\n",
       "  </tbody>\n",
       "</table>\n",
       "</div>"
      ],
      "text/plain": [
       "               count       std       mean\n",
       "checkout_page                            \n",
       "A               2461  2.418837  24.956437\n",
       "B               2541  7.277644  29.876202\n",
       "C               2603  4.869816  34.917589"
      ]
     },
     "execution_count": 57,
     "metadata": {},
     "output_type": "execute_result"
    }
   ],
   "source": [
    "# Mean, count, and standard deviation summary\n",
    "checkout.groupby('checkout_page')['order_value'].agg({'mean','std','count'})"
   ]
  },
  {
   "cell_type": "code",
   "execution_count": 58,
   "metadata": {},
   "outputs": [
    {
     "data": {
      "text/plain": [
       "Text(0, 0.5, 'Order Value [$]')"
      ]
     },
     "execution_count": 58,
     "metadata": {},
     "output_type": "execute_result"
    },
    {
     "data": {
      "image/png": "[encoded data removed]",
      "text/plain": [
       "<Figure size 640x480 with 1 Axes>"
      ]
     },
     "metadata": {},
     "output_type": "display_data"
    }
   ],
   "source": [
    "# Bar plots\n",
    "sns.barplot(x=checkout['checkout_page'], y=checkout['order_value'], estimator=np.mean) \n",
    "plt.title('Average Order Value per Checkout Page Variant') \n",
    "plt.xlabel('Checkout Page Variant') \n",
    "plt.ylabel('Order Value [$]')"
   ]
  },
  {
   "cell_type": "code",
   "execution_count": 59,
   "metadata": {},
   "outputs": [
    {
     "data": {
      "text/plain": [
       "<seaborn.axisgrid.FacetGrid at 0x11e39eb10>"
      ]
     },
     "execution_count": 59,
     "metadata": {},
     "output_type": "execute_result"
    },
    {
     "data": {
      "image/png": "[encoded data removed]",
      "text/plain": [
       "<Figure size 615.861x500 with 1 Axes>"
      ]
     },
     "metadata": {},
     "output_type": "display_data"
    }
   ],
   "source": [
    "# Histograms\n",
    "sns.displot(data=checkout, x='order_value', hue = 'checkout_page', kde=True) "
   ]
  },
  {
   "cell_type": "code",
   "execution_count": 60,
   "metadata": {},
   "outputs": [
    {
     "data": {
      "text/plain": [
       "checkout_page\n",
       "A    44.668527\n",
       "B    42.723772\n",
       "C    42.223772\n",
       "Name: time_on_page, dtype: float64"
      ]
     },
     "execution_count": 60,
     "metadata": {},
     "output_type": "execute_result"
    }
   ],
   "source": [
    "# Time on page\n",
    "checkout.groupby('checkout_page')['time_on_page'].mean()"
   ]
  },
  {
   "cell_type": "code",
   "execution_count": 61,
   "metadata": {},
   "outputs": [
    {
     "name": "stdout",
     "output_type": "stream",
     "text": [
      "               count       mean\n",
      "checkout_page                  \n",
      "A               3000  44.668527\n",
      "B               3000  42.723772\n",
      "C               3000  42.223772\n"
     ]
    }
   ],
   "source": [
    "# Calculate the mean and count of time on page by variant\n",
    "print(checkout.groupby('checkout_page')['time_on_page'].agg({'mean', 'count'}))"
   ]
  },
  {
   "cell_type": "code",
   "execution_count": 62,
   "metadata": {},
   "outputs": [
    {
     "name": "stdout",
     "output_type": "stream",
     "text": [
      "              order_value                          purchased                  \n",
      "                    count       mean           sum     count      mean     sum\n",
      "checkout_page                                                                 \n",
      "A                    2461  24.956437  61417.791564      3000  0.820333  2461.0\n",
      "B                    2541  29.876202  75915.430125      3000  0.847000  2541.0\n",
      "C                    2603  34.917589  90890.484142      3000  0.867667  2603.0\n"
     ]
    }
   ],
   "source": [
    "# Checkout aggregation\n",
    "print(checkout.groupby('checkout_page')[['order_value','purchased']].agg({'sum','count','mean'}))"
   ]
  },
  {
   "cell_type": "code",
   "execution_count": 63,
   "metadata": {},
   "outputs": [
    {
     "data": {
      "text/plain": [
       "checkout_page\n",
       "A    20.472597\n",
       "B    25.305143\n",
       "C    30.296828\n",
       "dtype: float64"
      ]
     },
     "execution_count": 63,
     "metadata": {},
     "output_type": "execute_result"
    }
   ],
   "source": [
    "checkout.groupby('checkout_page')['order_value'].sum()/checkout.groupby('checkout_page')['purchased'].count() "
   ]
  }
 ],
 "metadata": {
  "kernelspec": {
   "display_name": "Python 3",
   "language": "python",
   "name": "python3"
  },
  "language_info": {
   "codemirror_mode": {
    "name": "ipython",
    "version": 3
   },
   "file_extension": ".py",
   "mimetype": "text/x-python",
   "name": "python",
   "nbconvert_exporter": "python",
   "pygments_lexer": "ipython3",
   "version": "3.12.5"
  }
 },
 "nbformat": 4,
 "nbformat_minor": 2
}
