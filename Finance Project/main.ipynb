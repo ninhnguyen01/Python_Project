{
 "cells": [
  {
   "cell_type": "markdown",
   "metadata": {},
   "source": [
    "# Financial Analysis Project"
   ]
  },
  {
   "cell_type": "code",
   "execution_count": 50,
   "metadata": {},
   "outputs": [],
   "source": [
    "# Import Package\n",
    "import pandas as pd\n",
    "import matplotlib.pyplot as plt\n",
    "import seaborn as sns\n",
    "import numpy as np\n",
    "import scipy"
   ]
  },
  {
   "cell_type": "markdown",
   "metadata": {},
   "source": [
    "## Preview"
   ]
  },
  {
   "cell_type": "code",
   "execution_count": 51,
   "metadata": {},
   "outputs": [
    {
     "name": "stdout",
     "output_type": "stream",
     "text": [
      "40.0\n"
     ]
    }
   ],
   "source": [
    "# Variables to evaluate stock trends example\n",
    "price = 200 \n",
    "earnings = 5  \n",
    "pe_ratio = price / earnings  \n",
    "print(pe_ratio)"
   ]
  },
  {
   "cell_type": "code",
   "execution_count": 52,
   "metadata": {},
   "outputs": [
    {
     "name": "stdout",
     "output_type": "stream",
     "text": [
      "[['Jan', 'Feb', 'Mar'], [238.11, 237.81, 238.91]]\n",
      "['Jan', 'Feb', 'Mar']\n",
      "[238.11, 237.81, 238.91]\n",
      "238.11\n"
     ]
    }
   ],
   "source": [
    "# Example: a nested list describing the month and its associated consumer price index\n",
    "cpi = [['Jan', 'Feb', 'Mar'], [238.11, 237.81, 238.91]]\n",
    "print(cpi)\n",
    "print(cpi[0])\n",
    "print(cpi[1])\n",
    "print(cpi[1][0]) "
   ]
  },
  {
   "cell_type": "code",
   "execution_count": 53,
   "metadata": {},
   "outputs": [
    {
     "name": "stdout",
     "output_type": "stream",
     "text": [
      "[237.81, 238.11, 238.91]\n"
     ]
    }
   ],
   "source": [
    "# Sort price example\n",
    "prices = [238.11, 237.81, 238.91]  \n",
    "prices.sort()  \n",
    "print(prices)"
   ]
  },
  {
   "cell_type": "code",
   "execution_count": 54,
   "metadata": {},
   "outputs": [
    {
     "name": "stdout",
     "output_type": "stream",
     "text": [
      "['January', 'February', 'March', 'April']\n",
      "['January', 'February', 'March', 'April', 'May', 'June', 'July']\n"
     ]
    }
   ],
   "source": [
    "# Adding to a list\n",
    "months = ['January', 'February', 'March']  \n",
    "months.append('April')  \n",
    "print(months)\n",
    "months.extend(['May', 'June', 'July']) \n",
    "print(months)"
   ]
  },
  {
   "cell_type": "code",
   "execution_count": 55,
   "metadata": {},
   "outputs": [
    {
     "name": "stdout",
     "output_type": "stream",
     "text": [
      "1\n",
      "237.81\n"
     ]
    }
   ],
   "source": [
    "# List indexing\n",
    "months = ['January', 'February', 'March'] \n",
    "prices = [238.11, 237.81, 238.91] \n",
    "print(months.index('February'))\n",
    "print(prices[1])"
   ]
  },
  {
   "cell_type": "code",
   "execution_count": 56,
   "metadata": {},
   "outputs": [
    {
     "name": "stdout",
     "output_type": "stream",
     "text": [
      "237.81\n",
      "1\n",
      "February\n"
     ]
    }
   ],
   "source": [
    "# Find the month with smallest CPI\n",
    "months = ['January', 'February', 'March'] \n",
    "prices = [238.11, 237.81, 238.91] \n",
    "# Identify min price \n",
    "min_price = min(prices)  \n",
    "print(min_price)\n",
    "# Identify min price index \n",
    "min_index = prices.index(min_price)  \n",
    "print(min_index)\n",
    "# Identify the month with min price \n",
    "min_month = months[min_index] \n",
    "print(min_month)"
   ]
  },
  {
   "cell_type": "code",
   "execution_count": 57,
   "metadata": {},
   "outputs": [
    {
     "name": "stdout",
     "output_type": "stream",
     "text": [
      "Apr\n",
      "['March' 'Apr' 'May']\n"
     ]
    }
   ],
   "source": [
    "# Array indexing with numpy\n",
    "months_array = np.array(['Jan', 'Feb', 'March', 'Apr', 'May'])  \n",
    "print(months_array[3])\n",
    "print(months_array[2:5]) "
   ]
  },
  {
   "cell_type": "code",
   "execution_count": 58,
   "metadata": {},
   "outputs": [
    {
     "name": "stdout",
     "output_type": "stream",
     "text": [
      "[[  1.     2.     3.  ]\n",
      " [238.11 237.81 238.91]]\n"
     ]
    }
   ],
   "source": [
    "# 2D array\n",
    "months = [1, 2, 3] \n",
    "prices = [238.11, 237.81, 238.91] \n",
    "cpi_array = np.array([months, prices])  \n",
    "print(cpi_array)"
   ]
  },
  {
   "cell_type": "code",
   "execution_count": 59,
   "metadata": {},
   "outputs": [
    {
     "name": "stdout",
     "output_type": "stream",
     "text": [
      "238.27666666666667\n",
      "0.4642796092394667\n"
     ]
    }
   ],
   "source": [
    "prices = [238.11, 237.81, 238.91] \n",
    "prices_array = np.array(prices) \n",
    "# Calculate the mean\n",
    "print(np.mean(prices_array))\n",
    "# calculates the standard deviation of an input\n",
    "print(np.std(prices_array)) \n",
    "\n"
   ]
  },
  {
   "cell_type": "code",
   "execution_count": 60,
   "metadata": {},
   "outputs": [
    {
     "name": "stdout",
     "output_type": "stream",
     "text": [
      "[ 1  2  3  4  5  6  7  8  9 10 11 12]\n",
      "[ 1  3  5  7  9 11]\n"
     ]
    }
   ],
   "source": [
    "# Create an array\n",
    "months = np.arange(1, 13)  \n",
    "print(months)\n",
    "months_odd = np.arange(1, 13, 2)  \n",
    "print(months_odd)"
   ]
  },
  {
   "cell_type": "code",
   "execution_count": 61,
   "metadata": {},
   "outputs": [
    {
     "name": "stdout",
     "output_type": "stream",
     "text": [
      "['Feb' 'Apr' 'Jun']\n"
     ]
    }
   ],
   "source": [
    "# Index Arrays\n",
    "months_array = np.array(['Jan', 'Feb', 'Mar', 'Apr', 'May', 'Jun'])  \n",
    "indexing_array = np.array([1, 3, 5]) \n",
    "months_subset = months_array[indexing_array] \n",
    "print(months_subset)"
   ]
  },
  {
   "cell_type": "code",
   "execution_count": 62,
   "metadata": {},
   "outputs": [
    {
     "name": "stdout",
     "output_type": "stream",
     "text": [
      "[238.11 238.91]\n"
     ]
    }
   ],
   "source": [
    "# Boolean Arrays\n",
    "prices_array = np.array([238.11, 237.81, 238.91])  \n",
    "boolean_array = (prices_array > 238)\n",
    "print(prices_array[boolean_array]) "
   ]
  },
  {
   "cell_type": "markdown",
   "metadata": {},
   "source": [
    "## Project Section"
   ]
  },
  {
   "cell_type": "code",
   "execution_count": 63,
   "metadata": {},
   "outputs": [
    {
     "data": {
      "text/html": [
       "<div>\n",
       "<style scoped>\n",
       "    .dataframe tbody tr th:only-of-type {\n",
       "        vertical-align: middle;\n",
       "    }\n",
       "\n",
       "    .dataframe tbody tr th {\n",
       "        vertical-align: top;\n",
       "    }\n",
       "\n",
       "    .dataframe thead th {\n",
       "        text-align: right;\n",
       "    }\n",
       "</style>\n",
       "<table border=\"1\" class=\"dataframe\">\n",
       "  <thead>\n",
       "    <tr style=\"text-align: right;\">\n",
       "      <th></th>\n",
       "      <th>Day</th>\n",
       "      <th>Price</th>\n",
       "    </tr>\n",
       "  </thead>\n",
       "  <tbody>\n",
       "    <tr>\n",
       "      <th>0</th>\n",
       "      <td>1</td>\n",
       "      <td>78.72</td>\n",
       "    </tr>\n",
       "    <tr>\n",
       "      <th>1</th>\n",
       "      <td>2</td>\n",
       "      <td>78.31</td>\n",
       "    </tr>\n",
       "    <tr>\n",
       "      <th>2</th>\n",
       "      <td>3</td>\n",
       "      <td>75.98</td>\n",
       "    </tr>\n",
       "    <tr>\n",
       "      <th>3</th>\n",
       "      <td>4</td>\n",
       "      <td>78.21</td>\n",
       "    </tr>\n",
       "    <tr>\n",
       "      <th>4</th>\n",
       "      <td>5</td>\n",
       "      <td>78.21</td>\n",
       "    </tr>\n",
       "  </tbody>\n",
       "</table>\n",
       "</div>"
      ],
      "text/plain": [
       "   Day  Price\n",
       "0    1  78.72\n",
       "1    2  78.31\n",
       "2    3  75.98\n",
       "3    4  78.21\n",
       "4    5  78.21"
      ]
     },
     "execution_count": 63,
     "metadata": {},
     "output_type": "execute_result"
    }
   ],
   "source": [
    "# Read file\n",
    "stock = pd.read_csv('/Finance Project/stock_data.csv')\n",
    "# Preview first few rows\n",
    "stock.head()"
   ]
  },
  {
   "cell_type": "code",
   "execution_count": 64,
   "metadata": {},
   "outputs": [
    {
     "data": {
      "text/html": [
       "<div>\n",
       "<style scoped>\n",
       "    .dataframe tbody tr th:only-of-type {\n",
       "        vertical-align: middle;\n",
       "    }\n",
       "\n",
       "    .dataframe tbody tr th {\n",
       "        vertical-align: top;\n",
       "    }\n",
       "\n",
       "    .dataframe thead th {\n",
       "        text-align: right;\n",
       "    }\n",
       "</style>\n",
       "<table border=\"1\" class=\"dataframe\">\n",
       "  <thead>\n",
       "    <tr style=\"text-align: right;\">\n",
       "      <th></th>\n",
       "      <th>day</th>\n",
       "      <th>company1</th>\n",
       "      <th>company2</th>\n",
       "    </tr>\n",
       "  </thead>\n",
       "  <tbody>\n",
       "    <tr>\n",
       "      <th>0</th>\n",
       "      <td>1</td>\n",
       "      <td>78.72</td>\n",
       "      <td>62.957142</td>\n",
       "    </tr>\n",
       "    <tr>\n",
       "      <th>1</th>\n",
       "      <td>2</td>\n",
       "      <td>78.31</td>\n",
       "      <td>62.185715</td>\n",
       "    </tr>\n",
       "    <tr>\n",
       "      <th>2</th>\n",
       "      <td>3</td>\n",
       "      <td>75.98</td>\n",
       "      <td>62.971428</td>\n",
       "    </tr>\n",
       "    <tr>\n",
       "      <th>3</th>\n",
       "      <td>4</td>\n",
       "      <td>78.21</td>\n",
       "      <td>64.279999</td>\n",
       "    </tr>\n",
       "    <tr>\n",
       "      <th>4</th>\n",
       "      <td>5</td>\n",
       "      <td>78.21</td>\n",
       "      <td>64.998573</td>\n",
       "    </tr>\n",
       "  </tbody>\n",
       "</table>\n",
       "</div>"
      ],
      "text/plain": [
       "   day  company1   company2\n",
       "0    1     78.72  62.957142\n",
       "1    2     78.31  62.185715\n",
       "2    3     75.98  62.971428\n",
       "3    4     78.21  64.279999\n",
       "4    5     78.21  64.998573"
      ]
     },
     "execution_count": 64,
     "metadata": {},
     "output_type": "execute_result"
    }
   ],
   "source": [
    "# Read file\n",
    "stock2 = pd.read_csv('/Finance Project/stock_data2.csv')\n",
    "# Preview first few rows\n",
    "stock2.head()"
   ]
  },
  {
   "cell_type": "code",
   "execution_count": 65,
   "metadata": {},
   "outputs": [
    {
     "data": {
      "image/png": "[encoded data removed]",
      "text/plain": [
       "<Figure size 640x480 with 1 Axes>"
      ]
     },
     "metadata": {},
     "output_type": "display_data"
    }
   ],
   "source": [
    "# Line graph\n",
    "sns.lineplot(data=stock,x='Day',y='Price', color='green')\n",
    "plt.ylabel('Price in $')\n",
    "plt.show()"
   ]
  },
  {
   "cell_type": "code",
   "execution_count": 66,
   "metadata": {},
   "outputs": [
    {
     "data": {
      "image/png": "[encoded data removed]",
      "text/plain": [
       "<Figure size 640x480 with 1 Axes>"
      ]
     },
     "metadata": {},
     "output_type": "display_data"
    }
   ],
   "source": [
    "# Line graph\n",
    "sns.lineplot(data=stock2,x='day',y='company1', color='green')\n",
    "sns.lineplot(data=stock2,x='day',y='company2', color='blue')\n",
    "plt.title('Comparison of 2 Companies')\n",
    "plt.ylabel('Stock Price in $')\n",
    "plt.show()"
   ]
  }
 ],
 "metadata": {
  "kernelspec": {
   "display_name": "Python 3",
   "language": "python",
   "name": "python3"
  },
  "language_info": {
   "codemirror_mode": {
    "name": "ipython",
    "version": 3
   },
   "file_extension": ".py",
   "mimetype": "text/x-python",
   "name": "python",
   "nbconvert_exporter": "python",
   "pygments_lexer": "ipython3",
   "version": "3.12.5"
  }
 },
 "nbformat": 4,
 "nbformat_minor": 2
}
