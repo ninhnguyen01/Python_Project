{
 "cells": [
  {
   "cell_type": "markdown",
   "id": "09b2bdff",
   "metadata": {},
   "source": [
    "# Hands-On PyTorch Machine Learning"
   ]
  },
  {
   "cell_type": "code",
   "execution_count": 1,
   "id": "4e2044ba",
   "metadata": {},
   "outputs": [],
   "source": [
    "# import libraries\n",
    "import torch\n",
    "import pandas as pd\n"
   ]
  },
  {
   "cell_type": "code",
   "execution_count": 2,
   "id": "7871d5cb",
   "metadata": {},
   "outputs": [],
   "source": [
    "# set data path\n",
    "Data_path = \"world_happiness.csv\"\n"
   ]
  },
  {
   "cell_type": "code",
   "execution_count": 3,
   "id": "0511d3b1",
   "metadata": {},
   "outputs": [
    {
     "data": {
      "text/html": [
       "<div>\n",
       "<style scoped>\n",
       "    .dataframe tbody tr th:only-of-type {\n",
       "        vertical-align: middle;\n",
       "    }\n",
       "\n",
       "    .dataframe tbody tr th {\n",
       "        vertical-align: top;\n",
       "    }\n",
       "\n",
       "    .dataframe thead th {\n",
       "        text-align: right;\n",
       "    }\n",
       "</style>\n",
       "<table border=\"1\" class=\"dataframe\">\n",
       "  <thead>\n",
       "    <tr style=\"text-align: right;\">\n",
       "      <th></th>\n",
       "      <th>Unnamed: 0</th>\n",
       "      <th>country</th>\n",
       "      <th>social_support</th>\n",
       "      <th>freedom</th>\n",
       "      <th>corruption</th>\n",
       "      <th>generosity</th>\n",
       "      <th>gdp_per_cap</th>\n",
       "      <th>life_exp</th>\n",
       "      <th>happiness_score</th>\n",
       "    </tr>\n",
       "  </thead>\n",
       "  <tbody>\n",
       "    <tr>\n",
       "      <th>0</th>\n",
       "      <td>1</td>\n",
       "      <td>Finland</td>\n",
       "      <td>2.0</td>\n",
       "      <td>5.0</td>\n",
       "      <td>4.0</td>\n",
       "      <td>47.0</td>\n",
       "      <td>42400</td>\n",
       "      <td>81.8</td>\n",
       "      <td>155</td>\n",
       "    </tr>\n",
       "    <tr>\n",
       "      <th>1</th>\n",
       "      <td>2</td>\n",
       "      <td>Denmark</td>\n",
       "      <td>4.0</td>\n",
       "      <td>6.0</td>\n",
       "      <td>3.0</td>\n",
       "      <td>22.0</td>\n",
       "      <td>48300</td>\n",
       "      <td>81.0</td>\n",
       "      <td>154</td>\n",
       "    </tr>\n",
       "    <tr>\n",
       "      <th>2</th>\n",
       "      <td>3</td>\n",
       "      <td>Norway</td>\n",
       "      <td>3.0</td>\n",
       "      <td>3.0</td>\n",
       "      <td>8.0</td>\n",
       "      <td>11.0</td>\n",
       "      <td>66300</td>\n",
       "      <td>82.6</td>\n",
       "      <td>153</td>\n",
       "    </tr>\n",
       "    <tr>\n",
       "      <th>3</th>\n",
       "      <td>4</td>\n",
       "      <td>Iceland</td>\n",
       "      <td>1.0</td>\n",
       "      <td>7.0</td>\n",
       "      <td>45.0</td>\n",
       "      <td>3.0</td>\n",
       "      <td>47900</td>\n",
       "      <td>83.0</td>\n",
       "      <td>152</td>\n",
       "    </tr>\n",
       "    <tr>\n",
       "      <th>4</th>\n",
       "      <td>5</td>\n",
       "      <td>Netherlands</td>\n",
       "      <td>15.0</td>\n",
       "      <td>19.0</td>\n",
       "      <td>12.0</td>\n",
       "      <td>7.0</td>\n",
       "      <td>50500</td>\n",
       "      <td>81.8</td>\n",
       "      <td>151</td>\n",
       "    </tr>\n",
       "    <tr>\n",
       "      <th>5</th>\n",
       "      <td>6</td>\n",
       "      <td>Switzerland</td>\n",
       "      <td>13.0</td>\n",
       "      <td>11.0</td>\n",
       "      <td>7.0</td>\n",
       "      <td>16.0</td>\n",
       "      <td>59000</td>\n",
       "      <td>84.3</td>\n",
       "      <td>150</td>\n",
       "    </tr>\n",
       "    <tr>\n",
       "      <th>6</th>\n",
       "      <td>7</td>\n",
       "      <td>Sweden</td>\n",
       "      <td>25.0</td>\n",
       "      <td>10.0</td>\n",
       "      <td>6.0</td>\n",
       "      <td>17.0</td>\n",
       "      <td>47200</td>\n",
       "      <td>82.8</td>\n",
       "      <td>149</td>\n",
       "    </tr>\n",
       "    <tr>\n",
       "      <th>7</th>\n",
       "      <td>8</td>\n",
       "      <td>New Zealand</td>\n",
       "      <td>5.0</td>\n",
       "      <td>8.0</td>\n",
       "      <td>5.0</td>\n",
       "      <td>8.0</td>\n",
       "      <td>36500</td>\n",
       "      <td>81.9</td>\n",
       "      <td>148</td>\n",
       "    </tr>\n",
       "    <tr>\n",
       "      <th>8</th>\n",
       "      <td>9</td>\n",
       "      <td>Canada</td>\n",
       "      <td>20.0</td>\n",
       "      <td>9.0</td>\n",
       "      <td>11.0</td>\n",
       "      <td>14.0</td>\n",
       "      <td>44200</td>\n",
       "      <td>82.2</td>\n",
       "      <td>147</td>\n",
       "    </tr>\n",
       "    <tr>\n",
       "      <th>9</th>\n",
       "      <td>10</td>\n",
       "      <td>Austria</td>\n",
       "      <td>31.0</td>\n",
       "      <td>26.0</td>\n",
       "      <td>19.0</td>\n",
       "      <td>25.0</td>\n",
       "      <td>46900</td>\n",
       "      <td>82.0</td>\n",
       "      <td>146</td>\n",
       "    </tr>\n",
       "    <tr>\n",
       "      <th>10</th>\n",
       "      <td>11</td>\n",
       "      <td>Australia</td>\n",
       "      <td>7.0</td>\n",
       "      <td>17.0</td>\n",
       "      <td>13.0</td>\n",
       "      <td>6.0</td>\n",
       "      <td>45500</td>\n",
       "      <td>82.7</td>\n",
       "      <td>145</td>\n",
       "    </tr>\n",
       "    <tr>\n",
       "      <th>11</th>\n",
       "      <td>12</td>\n",
       "      <td>Costa Rica</td>\n",
       "      <td>42.0</td>\n",
       "      <td>16.0</td>\n",
       "      <td>58.0</td>\n",
       "      <td>75.0</td>\n",
       "      <td>15800</td>\n",
       "      <td>79.8</td>\n",
       "      <td>144</td>\n",
       "    </tr>\n",
       "    <tr>\n",
       "      <th>12</th>\n",
       "      <td>13</td>\n",
       "      <td>Israel</td>\n",
       "      <td>38.0</td>\n",
       "      <td>93.0</td>\n",
       "      <td>74.0</td>\n",
       "      <td>24.0</td>\n",
       "      <td>34100</td>\n",
       "      <td>83.3</td>\n",
       "      <td>143</td>\n",
       "    </tr>\n",
       "    <tr>\n",
       "      <th>13</th>\n",
       "      <td>14</td>\n",
       "      <td>Luxembourg</td>\n",
       "      <td>27.0</td>\n",
       "      <td>28.0</td>\n",
       "      <td>9.0</td>\n",
       "      <td>30.0</td>\n",
       "      <td>94300</td>\n",
       "      <td>82.0</td>\n",
       "      <td>142</td>\n",
       "    </tr>\n",
       "    <tr>\n",
       "      <th>14</th>\n",
       "      <td>15</td>\n",
       "      <td>United Kingdom</td>\n",
       "      <td>9.0</td>\n",
       "      <td>63.0</td>\n",
       "      <td>15.0</td>\n",
       "      <td>4.0</td>\n",
       "      <td>40400</td>\n",
       "      <td>81.1</td>\n",
       "      <td>141</td>\n",
       "    </tr>\n",
       "    <tr>\n",
       "      <th>15</th>\n",
       "      <td>16</td>\n",
       "      <td>Ireland</td>\n",
       "      <td>6.0</td>\n",
       "      <td>33.0</td>\n",
       "      <td>10.0</td>\n",
       "      <td>9.0</td>\n",
       "      <td>72400</td>\n",
       "      <td>82.3</td>\n",
       "      <td>140</td>\n",
       "    </tr>\n",
       "    <tr>\n",
       "      <th>16</th>\n",
       "      <td>17</td>\n",
       "      <td>Germany</td>\n",
       "      <td>39.0</td>\n",
       "      <td>44.0</td>\n",
       "      <td>17.0</td>\n",
       "      <td>19.0</td>\n",
       "      <td>46200</td>\n",
       "      <td>80.9</td>\n",
       "      <td>139</td>\n",
       "    </tr>\n",
       "    <tr>\n",
       "      <th>17</th>\n",
       "      <td>18</td>\n",
       "      <td>Belgium</td>\n",
       "      <td>22.0</td>\n",
       "      <td>53.0</td>\n",
       "      <td>20.0</td>\n",
       "      <td>44.0</td>\n",
       "      <td>43500</td>\n",
       "      <td>81.7</td>\n",
       "      <td>138</td>\n",
       "    </tr>\n",
       "    <tr>\n",
       "      <th>18</th>\n",
       "      <td>19</td>\n",
       "      <td>United States</td>\n",
       "      <td>37.0</td>\n",
       "      <td>62.0</td>\n",
       "      <td>42.0</td>\n",
       "      <td>12.0</td>\n",
       "      <td>56700</td>\n",
       "      <td>78.6</td>\n",
       "      <td>137</td>\n",
       "    </tr>\n",
       "    <tr>\n",
       "      <th>19</th>\n",
       "      <td>20</td>\n",
       "      <td>Czech Republic</td>\n",
       "      <td>24.0</td>\n",
       "      <td>58.0</td>\n",
       "      <td>121.0</td>\n",
       "      <td>117.0</td>\n",
       "      <td>34100</td>\n",
       "      <td>79.5</td>\n",
       "      <td>136</td>\n",
       "    </tr>\n",
       "    <tr>\n",
       "      <th>20</th>\n",
       "      <td>21</td>\n",
       "      <td>United Arab Emirates</td>\n",
       "      <td>72.0</td>\n",
       "      <td>4.0</td>\n",
       "      <td>NaN</td>\n",
       "      <td>15.0</td>\n",
       "      <td>65700</td>\n",
       "      <td>73.6</td>\n",
       "      <td>135</td>\n",
       "    </tr>\n",
       "    <tr>\n",
       "      <th>21</th>\n",
       "      <td>22</td>\n",
       "      <td>Malta</td>\n",
       "      <td>16.0</td>\n",
       "      <td>12.0</td>\n",
       "      <td>32.0</td>\n",
       "      <td>5.0</td>\n",
       "      <td>39300</td>\n",
       "      <td>81.3</td>\n",
       "      <td>134</td>\n",
       "    </tr>\n",
       "    <tr>\n",
       "      <th>22</th>\n",
       "      <td>23</td>\n",
       "      <td>Mexico</td>\n",
       "      <td>67.0</td>\n",
       "      <td>71.0</td>\n",
       "      <td>87.0</td>\n",
       "      <td>120.0</td>\n",
       "      <td>18000</td>\n",
       "      <td>75.6</td>\n",
       "      <td>133</td>\n",
       "    </tr>\n",
       "    <tr>\n",
       "      <th>23</th>\n",
       "      <td>24</td>\n",
       "      <td>France</td>\n",
       "      <td>32.0</td>\n",
       "      <td>69.0</td>\n",
       "      <td>21.0</td>\n",
       "      <td>68.0</td>\n",
       "      <td>40000</td>\n",
       "      <td>83.1</td>\n",
       "      <td>132</td>\n",
       "    </tr>\n",
       "    <tr>\n",
       "      <th>24</th>\n",
       "      <td>25</td>\n",
       "      <td>Chile</td>\n",
       "      <td>58.0</td>\n",
       "      <td>98.0</td>\n",
       "      <td>99.0</td>\n",
       "      <td>45.0</td>\n",
       "      <td>23000</td>\n",
       "      <td>80.0</td>\n",
       "      <td>130</td>\n",
       "    </tr>\n",
       "    <tr>\n",
       "      <th>25</th>\n",
       "      <td>26</td>\n",
       "      <td>Guatemala</td>\n",
       "      <td>78.0</td>\n",
       "      <td>25.0</td>\n",
       "      <td>82.0</td>\n",
       "      <td>78.0</td>\n",
       "      <td>7610</td>\n",
       "      <td>73.1</td>\n",
       "      <td>129</td>\n",
       "    </tr>\n",
       "    <tr>\n",
       "      <th>26</th>\n",
       "      <td>27</td>\n",
       "      <td>Saudi Arabia</td>\n",
       "      <td>62.0</td>\n",
       "      <td>68.0</td>\n",
       "      <td>NaN</td>\n",
       "      <td>82.0</td>\n",
       "      <td>48100</td>\n",
       "      <td>77.1</td>\n",
       "      <td>128</td>\n",
       "    </tr>\n",
       "    <tr>\n",
       "      <th>27</th>\n",
       "      <td>28</td>\n",
       "      <td>Qatar</td>\n",
       "      <td>NaN</td>\n",
       "      <td>NaN</td>\n",
       "      <td>NaN</td>\n",
       "      <td>NaN</td>\n",
       "      <td>113000</td>\n",
       "      <td>80.5</td>\n",
       "      <td>127</td>\n",
       "    </tr>\n",
       "    <tr>\n",
       "      <th>28</th>\n",
       "      <td>29</td>\n",
       "      <td>Spain</td>\n",
       "      <td>26.0</td>\n",
       "      <td>95.0</td>\n",
       "      <td>78.0</td>\n",
       "      <td>50.0</td>\n",
       "      <td>35700</td>\n",
       "      <td>83.3</td>\n",
       "      <td>126</td>\n",
       "    </tr>\n",
       "    <tr>\n",
       "      <th>29</th>\n",
       "      <td>30</td>\n",
       "      <td>Panama</td>\n",
       "      <td>41.0</td>\n",
       "      <td>32.0</td>\n",
       "      <td>104.0</td>\n",
       "      <td>88.0</td>\n",
       "      <td>23300</td>\n",
       "      <td>79.7</td>\n",
       "      <td>125</td>\n",
       "    </tr>\n",
       "    <tr>\n",
       "      <th>30</th>\n",
       "      <td>31</td>\n",
       "      <td>Brazil</td>\n",
       "      <td>43.0</td>\n",
       "      <td>84.0</td>\n",
       "      <td>71.0</td>\n",
       "      <td>108.0</td>\n",
       "      <td>14300</td>\n",
       "      <td>75.9</td>\n",
       "      <td>124</td>\n",
       "    </tr>\n",
       "    <tr>\n",
       "      <th>31</th>\n",
       "      <td>32</td>\n",
       "      <td>Uruguay</td>\n",
       "      <td>35.0</td>\n",
       "      <td>30.0</td>\n",
       "      <td>33.0</td>\n",
       "      <td>80.0</td>\n",
       "      <td>20900</td>\n",
       "      <td>77.3</td>\n",
       "      <td>123</td>\n",
       "    </tr>\n",
       "    <tr>\n",
       "      <th>32</th>\n",
       "      <td>33</td>\n",
       "      <td>Singapore</td>\n",
       "      <td>36.0</td>\n",
       "      <td>20.0</td>\n",
       "      <td>1.0</td>\n",
       "      <td>21.0</td>\n",
       "      <td>90100</td>\n",
       "      <td>85.1</td>\n",
       "      <td>122</td>\n",
       "    </tr>\n",
       "    <tr>\n",
       "      <th>33</th>\n",
       "      <td>34</td>\n",
       "      <td>El Salvador</td>\n",
       "      <td>83.0</td>\n",
       "      <td>74.0</td>\n",
       "      <td>85.0</td>\n",
       "      <td>134.0</td>\n",
       "      <td>7510</td>\n",
       "      <td>74.5</td>\n",
       "      <td>121</td>\n",
       "    </tr>\n",
       "    <tr>\n",
       "      <th>34</th>\n",
       "      <td>35</td>\n",
       "      <td>Italy</td>\n",
       "      <td>23.0</td>\n",
       "      <td>132.0</td>\n",
       "      <td>128.0</td>\n",
       "      <td>48.0</td>\n",
       "      <td>35800</td>\n",
       "      <td>83.5</td>\n",
       "      <td>120</td>\n",
       "    </tr>\n",
       "    <tr>\n",
       "      <th>35</th>\n",
       "      <td>36</td>\n",
       "      <td>Bahrain</td>\n",
       "      <td>59.0</td>\n",
       "      <td>24.0</td>\n",
       "      <td>NaN</td>\n",
       "      <td>23.0</td>\n",
       "      <td>42000</td>\n",
       "      <td>79.8</td>\n",
       "      <td>119</td>\n",
       "    </tr>\n",
       "    <tr>\n",
       "      <th>36</th>\n",
       "      <td>37</td>\n",
       "      <td>Trinidad and Tobago</td>\n",
       "      <td>29.0</td>\n",
       "      <td>51.0</td>\n",
       "      <td>141.0</td>\n",
       "      <td>41.0</td>\n",
       "      <td>28500</td>\n",
       "      <td>74.5</td>\n",
       "      <td>117</td>\n",
       "    </tr>\n",
       "    <tr>\n",
       "      <th>37</th>\n",
       "      <td>38</td>\n",
       "      <td>Poland</td>\n",
       "      <td>44.0</td>\n",
       "      <td>52.0</td>\n",
       "      <td>108.0</td>\n",
       "      <td>77.0</td>\n",
       "      <td>29900</td>\n",
       "      <td>78.4</td>\n",
       "      <td>116</td>\n",
       "    </tr>\n",
       "    <tr>\n",
       "      <th>38</th>\n",
       "      <td>39</td>\n",
       "      <td>Uzbekistan</td>\n",
       "      <td>11.0</td>\n",
       "      <td>1.0</td>\n",
       "      <td>18.0</td>\n",
       "      <td>29.0</td>\n",
       "      <td>6490</td>\n",
       "      <td>70.7</td>\n",
       "      <td>115</td>\n",
       "    </tr>\n",
       "    <tr>\n",
       "      <th>39</th>\n",
       "      <td>40</td>\n",
       "      <td>Lithuania</td>\n",
       "      <td>17.0</td>\n",
       "      <td>122.0</td>\n",
       "      <td>113.0</td>\n",
       "      <td>124.0</td>\n",
       "      <td>32400</td>\n",
       "      <td>75.4</td>\n",
       "      <td>114</td>\n",
       "    </tr>\n",
       "    <tr>\n",
       "      <th>40</th>\n",
       "      <td>41</td>\n",
       "      <td>Colombia</td>\n",
       "      <td>52.0</td>\n",
       "      <td>56.0</td>\n",
       "      <td>124.0</td>\n",
       "      <td>111.0</td>\n",
       "      <td>13600</td>\n",
       "      <td>80.5</td>\n",
       "      <td>113</td>\n",
       "    </tr>\n",
       "    <tr>\n",
       "      <th>41</th>\n",
       "      <td>42</td>\n",
       "      <td>Slovenia</td>\n",
       "      <td>14.0</td>\n",
       "      <td>13.0</td>\n",
       "      <td>97.0</td>\n",
       "      <td>54.0</td>\n",
       "      <td>33700</td>\n",
       "      <td>81.4</td>\n",
       "      <td>112</td>\n",
       "    </tr>\n",
       "    <tr>\n",
       "      <th>42</th>\n",
       "      <td>43</td>\n",
       "      <td>Nicaragua</td>\n",
       "      <td>66.0</td>\n",
       "      <td>70.0</td>\n",
       "      <td>43.0</td>\n",
       "      <td>71.0</td>\n",
       "      <td>4620</td>\n",
       "      <td>79.2</td>\n",
       "      <td>111</td>\n",
       "    </tr>\n",
       "    <tr>\n",
       "      <th>43</th>\n",
       "      <td>44</td>\n",
       "      <td>Argentina</td>\n",
       "      <td>46.0</td>\n",
       "      <td>54.0</td>\n",
       "      <td>109.0</td>\n",
       "      <td>123.0</td>\n",
       "      <td>17500</td>\n",
       "      <td>77.0</td>\n",
       "      <td>109</td>\n",
       "    </tr>\n",
       "    <tr>\n",
       "      <th>44</th>\n",
       "      <td>45</td>\n",
       "      <td>Romania</td>\n",
       "      <td>86.0</td>\n",
       "      <td>57.0</td>\n",
       "      <td>146.0</td>\n",
       "      <td>102.0</td>\n",
       "      <td>25500</td>\n",
       "      <td>75.4</td>\n",
       "      <td>108</td>\n",
       "    </tr>\n",
       "    <tr>\n",
       "      <th>45</th>\n",
       "      <td>46</td>\n",
       "      <td>Cyprus</td>\n",
       "      <td>90.0</td>\n",
       "      <td>81.0</td>\n",
       "      <td>115.0</td>\n",
       "      <td>39.0</td>\n",
       "      <td>34500</td>\n",
       "      <td>82.0</td>\n",
       "      <td>107</td>\n",
       "    </tr>\n",
       "    <tr>\n",
       "      <th>46</th>\n",
       "      <td>47</td>\n",
       "      <td>Ecuador</td>\n",
       "      <td>71.0</td>\n",
       "      <td>42.0</td>\n",
       "      <td>68.0</td>\n",
       "      <td>95.0</td>\n",
       "      <td>10200</td>\n",
       "      <td>77.2</td>\n",
       "      <td>106</td>\n",
       "    </tr>\n",
       "    <tr>\n",
       "      <th>47</th>\n",
       "      <td>48</td>\n",
       "      <td>Kuwait</td>\n",
       "      <td>69.0</td>\n",
       "      <td>47.0</td>\n",
       "      <td>NaN</td>\n",
       "      <td>42.0</td>\n",
       "      <td>64100</td>\n",
       "      <td>83.3</td>\n",
       "      <td>105</td>\n",
       "    </tr>\n",
       "    <tr>\n",
       "      <th>48</th>\n",
       "      <td>49</td>\n",
       "      <td>Thailand</td>\n",
       "      <td>53.0</td>\n",
       "      <td>18.0</td>\n",
       "      <td>131.0</td>\n",
       "      <td>10.0</td>\n",
       "      <td>17400</td>\n",
       "      <td>78.6</td>\n",
       "      <td>104</td>\n",
       "    </tr>\n",
       "    <tr>\n",
       "      <th>49</th>\n",
       "      <td>50</td>\n",
       "      <td>Latvia</td>\n",
       "      <td>34.0</td>\n",
       "      <td>126.0</td>\n",
       "      <td>92.0</td>\n",
       "      <td>105.0</td>\n",
       "      <td>27300</td>\n",
       "      <td>75.4</td>\n",
       "      <td>103</td>\n",
       "    </tr>\n",
       "  </tbody>\n",
       "</table>\n",
       "</div>"
      ],
      "text/plain": [
       "    Unnamed: 0               country  social_support  freedom  corruption  \\\n",
       "0            1               Finland             2.0      5.0         4.0   \n",
       "1            2               Denmark             4.0      6.0         3.0   \n",
       "2            3                Norway             3.0      3.0         8.0   \n",
       "3            4               Iceland             1.0      7.0        45.0   \n",
       "4            5           Netherlands            15.0     19.0        12.0   \n",
       "5            6           Switzerland            13.0     11.0         7.0   \n",
       "6            7                Sweden            25.0     10.0         6.0   \n",
       "7            8           New Zealand             5.0      8.0         5.0   \n",
       "8            9                Canada            20.0      9.0        11.0   \n",
       "9           10               Austria            31.0     26.0        19.0   \n",
       "10          11             Australia             7.0     17.0        13.0   \n",
       "11          12            Costa Rica            42.0     16.0        58.0   \n",
       "12          13                Israel            38.0     93.0        74.0   \n",
       "13          14            Luxembourg            27.0     28.0         9.0   \n",
       "14          15        United Kingdom             9.0     63.0        15.0   \n",
       "15          16               Ireland             6.0     33.0        10.0   \n",
       "16          17               Germany            39.0     44.0        17.0   \n",
       "17          18               Belgium            22.0     53.0        20.0   \n",
       "18          19         United States            37.0     62.0        42.0   \n",
       "19          20        Czech Republic            24.0     58.0       121.0   \n",
       "20          21  United Arab Emirates            72.0      4.0         NaN   \n",
       "21          22                 Malta            16.0     12.0        32.0   \n",
       "22          23                Mexico            67.0     71.0        87.0   \n",
       "23          24                France            32.0     69.0        21.0   \n",
       "24          25                 Chile            58.0     98.0        99.0   \n",
       "25          26             Guatemala            78.0     25.0        82.0   \n",
       "26          27          Saudi Arabia            62.0     68.0         NaN   \n",
       "27          28                 Qatar             NaN      NaN         NaN   \n",
       "28          29                 Spain            26.0     95.0        78.0   \n",
       "29          30                Panama            41.0     32.0       104.0   \n",
       "30          31                Brazil            43.0     84.0        71.0   \n",
       "31          32               Uruguay            35.0     30.0        33.0   \n",
       "32          33             Singapore            36.0     20.0         1.0   \n",
       "33          34           El Salvador            83.0     74.0        85.0   \n",
       "34          35                 Italy            23.0    132.0       128.0   \n",
       "35          36               Bahrain            59.0     24.0         NaN   \n",
       "36          37   Trinidad and Tobago            29.0     51.0       141.0   \n",
       "37          38                Poland            44.0     52.0       108.0   \n",
       "38          39            Uzbekistan            11.0      1.0        18.0   \n",
       "39          40             Lithuania            17.0    122.0       113.0   \n",
       "40          41              Colombia            52.0     56.0       124.0   \n",
       "41          42              Slovenia            14.0     13.0        97.0   \n",
       "42          43             Nicaragua            66.0     70.0        43.0   \n",
       "43          44             Argentina            46.0     54.0       109.0   \n",
       "44          45               Romania            86.0     57.0       146.0   \n",
       "45          46                Cyprus            90.0     81.0       115.0   \n",
       "46          47               Ecuador            71.0     42.0        68.0   \n",
       "47          48                Kuwait            69.0     47.0         NaN   \n",
       "48          49              Thailand            53.0     18.0       131.0   \n",
       "49          50                Latvia            34.0    126.0        92.0   \n",
       "\n",
       "    generosity  gdp_per_cap  life_exp  happiness_score  \n",
       "0         47.0        42400      81.8              155  \n",
       "1         22.0        48300      81.0              154  \n",
       "2         11.0        66300      82.6              153  \n",
       "3          3.0        47900      83.0              152  \n",
       "4          7.0        50500      81.8              151  \n",
       "5         16.0        59000      84.3              150  \n",
       "6         17.0        47200      82.8              149  \n",
       "7          8.0        36500      81.9              148  \n",
       "8         14.0        44200      82.2              147  \n",
       "9         25.0        46900      82.0              146  \n",
       "10         6.0        45500      82.7              145  \n",
       "11        75.0        15800      79.8              144  \n",
       "12        24.0        34100      83.3              143  \n",
       "13        30.0        94300      82.0              142  \n",
       "14         4.0        40400      81.1              141  \n",
       "15         9.0        72400      82.3              140  \n",
       "16        19.0        46200      80.9              139  \n",
       "17        44.0        43500      81.7              138  \n",
       "18        12.0        56700      78.6              137  \n",
       "19       117.0        34100      79.5              136  \n",
       "20        15.0        65700      73.6              135  \n",
       "21         5.0        39300      81.3              134  \n",
       "22       120.0        18000      75.6              133  \n",
       "23        68.0        40000      83.1              132  \n",
       "24        45.0        23000      80.0              130  \n",
       "25        78.0         7610      73.1              129  \n",
       "26        82.0        48100      77.1              128  \n",
       "27         NaN       113000      80.5              127  \n",
       "28        50.0        35700      83.3              126  \n",
       "29        88.0        23300      79.7              125  \n",
       "30       108.0        14300      75.9              124  \n",
       "31        80.0        20900      77.3              123  \n",
       "32        21.0        90100      85.1              122  \n",
       "33       134.0         7510      74.5              121  \n",
       "34        48.0        35800      83.5              120  \n",
       "35        23.0        42000      79.8              119  \n",
       "36        41.0        28500      74.5              117  \n",
       "37        77.0        29900      78.4              116  \n",
       "38        29.0         6490      70.7              115  \n",
       "39       124.0        32400      75.4              114  \n",
       "40       111.0        13600      80.5              113  \n",
       "41        54.0        33700      81.4              112  \n",
       "42        71.0         4620      79.2              111  \n",
       "43       123.0        17500      77.0              109  \n",
       "44       102.0        25500      75.4              108  \n",
       "45        39.0        34500      82.0              107  \n",
       "46        95.0        10200      77.2              106  \n",
       "47        42.0        64100      83.3              105  \n",
       "48        10.0        17400      78.6              104  \n",
       "49       105.0        27300      75.4              103  "
      ]
     },
     "execution_count": 3,
     "metadata": {},
     "output_type": "execute_result"
    }
   ],
   "source": [
    "# read the top 50 rows of the csv file into a pandas dataframe\n",
    "# install Pandas library: pip3 install pandas\n",
    "df = pd.read_csv(Data_path,nrows=50)\n",
    "df\n"
   ]
  },
  {
   "cell_type": "code",
   "execution_count": 4,
   "id": "06dfc2d2",
   "metadata": {},
   "outputs": [
    {
     "name": "stdout",
     "output_type": "stream",
     "text": [
      "tensor([155, 154, 153, 152, 151, 150, 149, 148, 147, 146, 145, 144, 143, 142,\n",
      "        141, 140, 139, 138, 137, 136, 135, 134, 133, 132, 130, 129, 128, 127,\n",
      "        126, 125, 124, 123, 122, 121, 120, 119, 117, 116, 115, 114, 113, 112,\n",
      "        111, 109, 108, 107, 106, 105, 104, 103])\n"
     ]
    }
   ],
   "source": [
    "import torch.utils.data as data_utils\n",
    "pd.to_numeric(df['happiness_score'])\n",
    "happiness_score_df = pd.DataFrame(df['happiness_score'])\n",
    "\n",
    "# creating tensor from happiness_score_df\n",
    "train_tensor = torch.tensor(happiness_score_df['happiness_score'].values)\n",
    "\n",
    "# printing out result\n",
    "print(train_tensor)\n"
   ]
  },
  {
   "cell_type": "code",
   "execution_count": 5,
   "id": "d5f956d9",
   "metadata": {},
   "outputs": [
    {
     "name": "stdout",
     "output_type": "stream",
     "text": [
      "tensor(1000)\n",
      "tensor([9, 8, 7, 6])\n",
      "tensor([[1, 2, 3],\n",
      "        [7, 5, 3]])\n"
     ]
    }
   ],
   "source": [
    "# create some tensors\n",
    "t0 = torch.tensor(1000)                     # 0-D tensor\n",
    "t1 = torch.tensor([9, 8, 7, 6])             # 1-D tensor\n",
    "t2 = torch.tensor([[1, 2, 3], [7, 5, 3]])   # 2-D tensor\n",
    "\n",
    "print(t0)\n",
    "print(t1)\n",
    "print(t2)\n"
   ]
  },
  {
   "cell_type": "code",
   "execution_count": 6,
   "id": "4d903de2",
   "metadata": {},
   "outputs": [
    {
     "name": "stdout",
     "output_type": "stream",
     "text": [
      "tensor([[1, 1, 1],\n",
      "        [1, 1, 1]], dtype=torch.int16)\n"
     ]
    }
   ],
   "source": [
    "# set datatype for the tensor\n",
    "a = torch.ones((2, 3), dtype=torch.int16)\n",
    "print(a)\n"
   ]
  },
  {
   "cell_type": "code",
   "execution_count": 7,
   "id": "b1d92330",
   "metadata": {},
   "outputs": [
    {
     "data": {
      "text/plain": [
       "' Tensor data types\\ntorch.bool\\ntorch.int8\\ntorch.uint8\\ntorch.int16\\ntorch.int32\\ntorch.int64\\ntorch.half\\ntorch.float\\ntorch.double\\ntorch.bfloat\\n'"
      ]
     },
     "execution_count": 7,
     "metadata": {},
     "output_type": "execute_result"
    }
   ],
   "source": [
    "\"\"\" Tensor data types\n",
    "torch.bool\n",
    "torch.int8\n",
    "torch.uint8\n",
    "torch.int16\n",
    "torch.int32\n",
    "torch.int64\n",
    "torch.half\n",
    "torch.float\n",
    "torch.double\n",
    "torch.bfloat\n",
    "\"\"\""
   ]
  },
  {
   "cell_type": "code",
   "execution_count": 8,
   "id": "0eabd804",
   "metadata": {},
   "outputs": [
    {
     "name": "stdout",
     "output_type": "stream",
     "text": [
      "torch.Size([2, 3])\n",
      "torch.Size([2, 3])\n"
     ]
    }
   ],
   "source": [
    "# get the tensor size\n",
    "print(a.size())\n",
    "print(a.shape)\n"
   ]
  },
  {
   "cell_type": "code",
   "execution_count": 9,
   "id": "2cd6a70f",
   "metadata": {},
   "outputs": [
    {
     "name": "stdout",
     "output_type": "stream",
     "text": [
      "2\n",
      "2\n"
     ]
    }
   ],
   "source": [
    "# get the tensor dimension\n",
    "print(a.ndimension())\n",
    "print(a.ndim)\n"
   ]
  },
  {
   "cell_type": "code",
   "execution_count": 10,
   "id": "b848f82d",
   "metadata": {},
   "outputs": [
    {
     "name": "stdout",
     "output_type": "stream",
     "text": [
      "tensor([1., 2.])\n",
      "tensor([3., 4.])\n"
     ]
    }
   ],
   "source": [
    "# create 2 tensors\n",
    "u = torch.tensor([1.0, 2.0])\n",
    "v = torch.tensor([3.0, 4.0])\n",
    "\n",
    "print(u)\n",
    "print(v)\n"
   ]
  },
  {
   "cell_type": "code",
   "execution_count": 11,
   "id": "048f70b5",
   "metadata": {},
   "outputs": [
    {
     "name": "stdout",
     "output_type": "stream",
     "text": [
      "tensor([4., 6.])\n",
      "tensor([-2., -2.])\n"
     ]
    }
   ],
   "source": [
    "# perform some addition and substraction\n",
    "print(u + v)\n",
    "print(u - v)\n"
   ]
  },
  {
   "cell_type": "code",
   "execution_count": 12,
   "id": "6d7a5302",
   "metadata": {},
   "outputs": [
    {
     "name": "stdout",
     "output_type": "stream",
     "text": [
      "Common functions:\n",
      "tensor([[0.2412, 0.7063, 0.9357, 0.2877],\n",
      "        [0.7750, 0.1847, 0.6625, 0.5658]])\n",
      "tensor([[-0., -0., 1., 1.],\n",
      "        [1., -0., 1., 1.]])\n",
      "tensor([[-1., -1.,  0.,  0.],\n",
      "        [ 0., -1.,  0.,  0.]])\n",
      "tensor([[-0.2412, -0.5000,  0.5000,  0.2877],\n",
      "        [ 0.5000, -0.1847,  0.5000,  0.5000]])\n"
     ]
    }
   ],
   "source": [
    "# try some common tensor functions\n",
    "a = torch.rand(2, 4) * 2 - 1\n",
    "print('Common functions:')\n",
    "print(torch.abs(a))\n",
    "print(torch.ceil(a))\n",
    "print(torch.floor(a))\n",
    "print(torch.clamp(a, -0.5, 0.5))\n"
   ]
  },
  {
   "cell_type": "code",
   "execution_count": 13,
   "id": "8ff88258",
   "metadata": {},
   "outputs": [
    {
     "name": "stdout",
     "output_type": "stream",
     "text": [
      "tensor([1., 2., 3., 4., 5.])\n",
      "tensor(3.)\n"
     ]
    }
   ],
   "source": [
    "# reduction function using mean\n",
    "x = torch.tensor([1, 2, 3, 4, 5], dtype=torch.float32)\n",
    "print(x)\n",
    "print(x.mean())\n"
   ]
  },
  {
   "cell_type": "code",
   "execution_count": 14,
   "id": "039fd169",
   "metadata": {},
   "outputs": [
    {
     "name": "stdout",
     "output_type": "stream",
     "text": [
      "tensor(5.)\n",
      "tensor(1.)\n"
     ]
    }
   ],
   "source": [
    "# more reduction function using min and max\n",
    "print(x.max())\n",
    "print(x.min())\n"
   ]
  },
  {
   "cell_type": "code",
   "execution_count": 15,
   "id": "8f58d8f1",
   "metadata": {},
   "outputs": [
    {
     "name": "stdout",
     "output_type": "stream",
     "text": [
      "tensor([0.0000, 1.5708, 3.1416])\n",
      "tensor([ 0.0000e+00,  1.0000e+00, -8.7423e-08])\n",
      "tensor([ 1.0000e+00, -4.3711e-08, -1.0000e+00])\n"
     ]
    }
   ],
   "source": [
    "# trigonometric functions and their inverses\n",
    "import numpy as np\n",
    "\n",
    "x = torch.tensor([0, np.pi / 2, np.pi])\n",
    "print(x)\n",
    "print(torch.sin(x))\n",
    "print(torch.cos(x))\n"
   ]
  },
  {
   "cell_type": "code",
   "execution_count": 16,
   "id": "108f055c",
   "metadata": {},
   "outputs": [
    {
     "name": "stdout",
     "output_type": "stream",
     "text": [
      "tensor([-1.5708, -1.5677, -1.5645, -1.5614, -1.5582])\n",
      "tensor([1.5582, 1.5614, 1.5645, 1.5677, 1.5708])\n",
      "tensor([-1.0000, -1.0000, -1.0000, -1.0000, -0.9999])\n",
      "tensor([-4.3711e-08,  3.1447e-03,  6.2894e-03,  9.4340e-03,  1.2579e-02])\n"
     ]
    }
   ],
   "source": [
    "# get an evenly spaced list of numbers between a range\n",
    "pi = torch.linspace(-np.pi/2, np.pi/2, steps=1000)\n",
    "print(pi[:5])  # lower bound\n",
    "print(pi[-5:]) # upper bound\n",
    "\n",
    "sined = torch.sin(pi)\n",
    "cosed = torch.cos(pi)\n",
    "print(sined[0:5])\n",
    "print(cosed[0:5])\n"
   ]
  },
  {
   "cell_type": "code",
   "execution_count": 17,
   "id": "b84e8346",
   "metadata": {},
   "outputs": [
    {
     "data": {
      "image/png": "[encoded data removed]",
      "text/plain": [
       "<Figure size 640x480 with 1 Axes>"
      ]
     },
     "metadata": {},
     "output_type": "display_data"
    }
   ],
   "source": [
    "# use matplotlib to visualize\n",
    "import matplotlib.pyplot as plt\n",
    "\n",
    "plt.plot(sined, label=\"sined\")\n",
    "plt.plot(cosed, label=\"cosed\")\n",
    "plt.legend()\n",
    "plt.show()\n"
   ]
  },
  {
   "cell_type": "code",
   "execution_count": 18,
   "id": "1c51859f",
   "metadata": {},
   "outputs": [
    {
     "name": "stdout",
     "output_type": "stream",
     "text": [
      "tensor([ 2, 16])\n",
      "torch.Size([2])\n",
      "1\n"
     ]
    }
   ],
   "source": [
    "# simple operation rehash\n",
    "u = torch.tensor([2, 4])\n",
    "v = torch.tensor([1, 4])\n",
    "w = u * v\n",
    "print(w)\n",
    "print(w.shape)\n",
    "print(w.ndim)\n"
   ]
  },
  {
   "cell_type": "code",
   "execution_count": 19,
   "id": "dda85e31",
   "metadata": {},
   "outputs": [
    {
     "name": "stdout",
     "output_type": "stream",
     "text": [
      "tensor([[[0.8472, 0.0059],\n",
      "         [0.7332, 0.7124],\n",
      "         [0.7495, 0.1707]],\n",
      "\n",
      "        [[0.8472, 0.0059],\n",
      "         [0.7332, 0.7124],\n",
      "         [0.7495, 0.1707]],\n",
      "\n",
      "        [[0.8472, 0.0059],\n",
      "         [0.7332, 0.7124],\n",
      "         [0.7495, 0.1707]],\n",
      "\n",
      "        [[0.8472, 0.0059],\n",
      "         [0.7332, 0.7124],\n",
      "         [0.7495, 0.1707]]])\n"
     ]
    }
   ],
   "source": [
    "# broadcasting rules \n",
    "a =     torch.ones(4, 3, 2)\n",
    "b = a * torch.rand(   3, 2) # 3rd & 2nd dims identical to a, dim 1 absent\n",
    "print(b)\n"
   ]
  },
  {
   "cell_type": "code",
   "execution_count": 20,
   "id": "c01c3741",
   "metadata": {},
   "outputs": [
    {
     "name": "stdout",
     "output_type": "stream",
     "text": [
      "tensor([[[0.4393, 0.4393],\n",
      "         [0.5344, 0.5344],\n",
      "         [0.5805, 0.5805]],\n",
      "\n",
      "        [[0.4393, 0.4393],\n",
      "         [0.5344, 0.5344],\n",
      "         [0.5805, 0.5805]],\n",
      "\n",
      "        [[0.4393, 0.4393],\n",
      "         [0.5344, 0.5344],\n",
      "         [0.5805, 0.5805]],\n",
      "\n",
      "        [[0.4393, 0.4393],\n",
      "         [0.5344, 0.5344],\n",
      "         [0.5805, 0.5805]]])\n"
     ]
    }
   ],
   "source": [
    "c = a * torch.rand(   3, 1) # 3rd dim = 1, 2nd dim identical to a\n",
    "print(c)\n"
   ]
  },
  {
   "cell_type": "code",
   "execution_count": 21,
   "id": "ba7cb28c",
   "metadata": {},
   "outputs": [
    {
     "name": "stdout",
     "output_type": "stream",
     "text": [
      "tensor([[[0.0639, 0.9390],\n",
      "         [0.0639, 0.9390],\n",
      "         [0.0639, 0.9390]],\n",
      "\n",
      "        [[0.0639, 0.9390],\n",
      "         [0.0639, 0.9390],\n",
      "         [0.0639, 0.9390]],\n",
      "\n",
      "        [[0.0639, 0.9390],\n",
      "         [0.0639, 0.9390],\n",
      "         [0.0639, 0.9390]],\n",
      "\n",
      "        [[0.0639, 0.9390],\n",
      "         [0.0639, 0.9390],\n",
      "         [0.0639, 0.9390]]])\n"
     ]
    }
   ],
   "source": [
    "d = a * torch.rand(   1, 2) # 3rd dim identical to a, 2nd dim = 1\n",
    "print(d)\n"
   ]
  },
  {
   "cell_type": "code",
   "execution_count": 22,
   "id": "92054ef1",
   "metadata": {},
   "outputs": [
    {
     "name": "stdout",
     "output_type": "stream",
     "text": [
      "[[1. 1. 1.]\n",
      " [1. 1. 1.]]\n",
      "tensor([[1., 1., 1.],\n",
      "        [1., 1., 1.]], dtype=torch.float64)\n"
     ]
    }
   ],
   "source": [
    "# switch between ndarrays and PyTorch tensors\n",
    "import numpy as np\n",
    "numpy_array = np.ones((2, 3))\n",
    "print(numpy_array)\n",
    "\n",
    "pytorch_tensor = torch.from_numpy(numpy_array)\n",
    "print(pytorch_tensor)\n"
   ]
  },
  {
   "cell_type": "code",
   "execution_count": 23,
   "id": "0d50be95",
   "metadata": {},
   "outputs": [
    {
     "name": "stdout",
     "output_type": "stream",
     "text": [
      "tensor([[0.4209, 0.0048, 0.4809],\n",
      "        [0.0330, 0.4362, 0.1291]])\n",
      "[[0.42086232 0.00478262 0.48089427]\n",
      " [0.03300911 0.43619478 0.12912178]]\n"
     ]
    }
   ],
   "source": [
    "# reverse example of converting from PyTorch tensor into ndarray\n",
    "pytorch_rand = torch.rand(2, 3)\n",
    "print(pytorch_rand)\n",
    "\n",
    "numpy_rand = pytorch_rand.numpy()\n",
    "print(numpy_rand)\n"
   ]
  },
  {
   "cell_type": "code",
   "execution_count": 24,
   "id": "6ce2d878",
   "metadata": {},
   "outputs": [
    {
     "name": "stdout",
     "output_type": "stream",
     "text": [
      "tensor([[ 1.,  1.,  1.],\n",
      "        [ 1., 23.,  1.]], dtype=torch.float64)\n",
      "[[4.2086232e-01 4.7826171e-03 4.8089427e-01]\n",
      " [3.3009112e-02 1.7000000e+01 1.2912178e-01]]\n"
     ]
    }
   ],
   "source": [
    "# using the same underlying memory\n",
    "numpy_array[1, 1] = 23\n",
    "print(pytorch_tensor)\n",
    "\n",
    "pytorch_rand[1, 1] = 17\n",
    "print(numpy_rand)\n"
   ]
  },
  {
   "cell_type": "code",
   "execution_count": 25,
   "id": "85082798",
   "metadata": {},
   "outputs": [],
   "source": [
    "import torch\n",
    "from torch.autograd import Variable\n"
   ]
  },
  {
   "cell_type": "code",
   "execution_count": 26,
   "id": "942b6145",
   "metadata": {},
   "outputs": [
    {
     "name": "stdout",
     "output_type": "stream",
     "text": [
      "tensor([[1., 1.],\n",
      "        [1., 1.]], requires_grad=True)\n"
     ]
    }
   ],
   "source": [
    "x = Variable(torch.ones(2, 2), requires_grad=True)\n",
    "print(x)\n"
   ]
  },
  {
   "cell_type": "code",
   "execution_count": 27,
   "id": "b0562ff1",
   "metadata": {},
   "outputs": [
    {
     "name": "stdout",
     "output_type": "stream",
     "text": [
      "tensor([[3., 3.],\n",
      "        [3., 3.]], grad_fn=<AddBackward0>)\n"
     ]
    }
   ],
   "source": [
    "y = x + 2\n",
    "print(y)\n"
   ]
  },
  {
   "cell_type": "code",
   "execution_count": 28,
   "id": "dfaea950",
   "metadata": {},
   "outputs": [
    {
     "name": "stdout",
     "output_type": "stream",
     "text": [
      "<AddBackward0 object at 0x132d263e0>\n"
     ]
    }
   ],
   "source": [
    "print(y.grad_fn)\n"
   ]
  },
  {
   "cell_type": "code",
   "execution_count": 29,
   "id": "0c082a7b",
   "metadata": {},
   "outputs": [
    {
     "name": "stdout",
     "output_type": "stream",
     "text": [
      "tensor([[27., 27.],\n",
      "        [27., 27.]], grad_fn=<MulBackward0>) tensor(27., grad_fn=<MeanBackward0>)\n"
     ]
    }
   ],
   "source": [
    "z = y * y * 3\n",
    "out = z.mean()\n",
    "print(z, out)\n"
   ]
  },
  {
   "cell_type": "code",
   "execution_count": 30,
   "id": "0bd030f2",
   "metadata": {},
   "outputs": [],
   "source": [
    "out.backward()\n"
   ]
  },
  {
   "cell_type": "code",
   "execution_count": 31,
   "id": "a3fe1713",
   "metadata": {},
   "outputs": [
    {
     "name": "stdout",
     "output_type": "stream",
     "text": [
      "tensor([[4.5000, 4.5000],\n",
      "        [4.5000, 4.5000]])\n"
     ]
    }
   ],
   "source": [
    "print(x.grad)\n"
   ]
  },
  {
   "cell_type": "code",
   "execution_count": 32,
   "id": "45b7dc64",
   "metadata": {},
   "outputs": [],
   "source": [
    "import torch\n",
    "from torch.autograd import Variable\n"
   ]
  },
  {
   "cell_type": "code",
   "execution_count": 33,
   "id": "620af6f5",
   "metadata": {},
   "outputs": [
    {
     "name": "stdout",
     "output_type": "stream",
     "text": [
      "tensor([ 0.8646, -0.8763,  1.1790], requires_grad=True)\n"
     ]
    }
   ],
   "source": [
    "x = torch.randn(3)\n",
    "x = Variable(x, requires_grad=True)\n",
    "print(x)\n"
   ]
  },
  {
   "cell_type": "code",
   "execution_count": 34,
   "id": "4cfce5b6",
   "metadata": {},
   "outputs": [
    {
     "name": "stdout",
     "output_type": "stream",
     "text": [
      "tensor([ 885.3780, -897.3144, 1207.3207], grad_fn=<MulBackward0>)\n"
     ]
    }
   ],
   "source": [
    "y = x * 2\n",
    "while y.data.norm() < 1000:\n",
    "    y = y * 2\n",
    "print(y)\n"
   ]
  },
  {
   "cell_type": "code",
   "execution_count": 35,
   "id": "f383f109",
   "metadata": {},
   "outputs": [],
   "source": [
    "gradients = torch.FloatTensor([0.1, 1.0, 0.0001])\n",
    "y.backward(gradients)\n"
   ]
  },
  {
   "cell_type": "code",
   "execution_count": 36,
   "id": "7d67efa5",
   "metadata": {},
   "outputs": [
    {
     "name": "stdout",
     "output_type": "stream",
     "text": [
      "tensor([1.0240e+02, 1.0240e+03, 1.0240e-01])\n"
     ]
    }
   ],
   "source": [
    "print(x.grad)\n"
   ]
  }
 ],
 "metadata": {
  "kernelspec": {
   "display_name": "Python 3 (ipykernel)",
   "language": "python",
   "name": "python3"
  },
  "language_info": {
   "codemirror_mode": {
    "name": "ipython",
    "version": 3
   },
   "file_extension": ".py",
   "mimetype": "text/x-python",
   "name": "python",
   "nbconvert_exporter": "python",
   "pygments_lexer": "ipython3",
   "version": "3.10.9"
  }
 },
 "nbformat": 4,
 "nbformat_minor": 5
}
