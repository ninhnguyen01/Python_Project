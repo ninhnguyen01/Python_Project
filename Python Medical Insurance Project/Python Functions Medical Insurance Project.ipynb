{
 "cells": [
  {
   "cell_type": "markdown",
   "id": "5632f063",
   "metadata": {},
   "source": [
    "# Python Functions: Medical Insurance Project \n"
   ]
  },
  {
   "cell_type": "markdown",
   "id": "9689bc21",
   "metadata": {},
   "source": [
    "In this code, we estimate the medical insurance costs for two individuals, Maria and Omar, based on five variables:\n",
    "\n",
    "    age: age of the individual in years\n",
    "    sex: 0 for female, 1 for male\n",
    "    bmi: individual’s body mass index\n",
    "    num_of_children: number of children the individual has\n",
    "    smoker: 0 for a non-smoker, 1 for a smoker\n",
    "\n",
    "These variables are used in the following formula to estimate an individual’s insurance cost (in USD):\n",
    "\n",
    "insurance_cost= 250∗age − 128∗sex + 370∗bmi  + 425∗num_of_children + 24000∗smoker − 12500\n",
    "\n"
   ]
  },
  {
   "cell_type": "code",
   "execution_count": 1,
   "id": "f2177138",
   "metadata": {},
   "outputs": [
    {
     "name": "stdout",
     "output_type": "stream",
     "text": [
      "1000\n",
      "The estimated insurance cost for this person is 1000 dollars.\n"
     ]
    },
    {
     "data": {
      "text/plain": [
       "1000"
      ]
     },
     "execution_count": 1,
     "metadata": {},
     "output_type": "execute_result"
    }
   ],
   "source": [
    "# default value\n",
    "def calculate_insurance_cost():\n",
    "    estimated_cost = 1000\n",
    "    print(estimated_cost)\n",
    "    print(\"The estimated insurance cost for this person is \"+ str(estimated_cost) + \" dollars.\")\n",
    "    return estimated_cost\n",
    "    \n",
    "calculate_insurance_cost()"
   ]
  },
  {
   "cell_type": "code",
   "execution_count": 2,
   "id": "b8437d42",
   "metadata": {},
   "outputs": [],
   "source": [
    "def calculate_insurance_cost(name, age, sex, bmi, num_of_children, smoker):\n",
    "    estimated_cost = 250 * age - 128 * sex + 370 * bmi + 425 * num_of_children + 24000 * smoker - 12500\n",
    "    print(\"The estimated insurance cost for \" + name + \" is \"+ str(estimated_cost) + \" dollars.\")\n",
    "    return estimated_cost    \n"
   ]
  },
  {
   "cell_type": "code",
   "execution_count": 3,
   "id": "625f14f5",
   "metadata": {},
   "outputs": [
    {
     "name": "stdout",
     "output_type": "stream",
     "text": [
      "The estimated insurance cost for Maria is 5469.0 dollars.\n"
     ]
    }
   ],
   "source": [
    "# Estimate Maria's insurance cost\n",
    "maria_insurance_cost = calculate_insurance_cost(name = \"Maria\", age = 28, sex = 0, bmi = 26.2, num_of_children = 3,smoker = 0)\n",
    "\n"
   ]
  },
  {
   "cell_type": "code",
   "execution_count": 4,
   "id": "9446b991",
   "metadata": {},
   "outputs": [
    {
     "name": "stdout",
     "output_type": "stream",
     "text": [
      "The estimated insurance cost for Omar is 28336.0 dollars.\n"
     ]
    }
   ],
   "source": [
    "# Estimate Omar's insurance cost \n",
    "omar_insurance_cost = calculate_insurance_cost(name = \"Omar\", age = 35,sex = 1, bmi = 22.2, num_of_children = 0, smoker = 1)"
   ]
  },
  {
   "cell_type": "code",
   "execution_count": null,
   "id": "190c2952",
   "metadata": {},
   "outputs": [],
   "source": []
  }
 ],
 "metadata": {
  "kernelspec": {
   "display_name": "Python 3 (ipykernel)",
   "language": "python",
   "name": "python3"
  },
  "language_info": {
   "codemirror_mode": {
    "name": "ipython",
    "version": 3
   },
   "file_extension": ".py",
   "mimetype": "text/x-python",
   "name": "python",
   "nbconvert_exporter": "python",
   "pygments_lexer": "ipython3",
   "version": "3.9.13"
  }
 },
 "nbformat": 4,
 "nbformat_minor": 5
}
