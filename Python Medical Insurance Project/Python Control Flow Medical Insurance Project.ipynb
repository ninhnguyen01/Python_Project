{
 "cells": [
  {
   "cell_type": "markdown",
   "id": "a1055918",
   "metadata": {},
   "source": [
    "# Python Control Flow: Medical Insurance Project "
   ]
  },
  {
   "cell_type": "markdown",
   "id": "17fc5a2c",
   "metadata": {},
   "source": [
    " medical insurance cost for an individual, based on five variables:\n",
    "\n",
    "    age: age of the individual in years\n",
    "    sex: 0 for female, 1 if male\n",
    "    bmi: individual’s body mass index\n",
    "    num_of_children: number of children the individual has\n",
    "    smoker: 0 for a non-smoker, 1 for a smoker\n"
   ]
  },
  {
   "cell_type": "markdown",
   "id": "412bb8f5",
   "metadata": {},
   "source": [
    "formula to estimate an individual’s insurance cost:\n",
    "\n",
    "insurance_cost= 250∗age − 128∗sex + 370∗bmi + 425∗num_of_children + 24000∗smoker − 12500"
   ]
  },
  {
   "cell_type": "markdown",
   "id": "d1fa8b36",
   "metadata": {},
   "source": [
    "## Analyzing Smoker Status"
   ]
  },
  {
   "cell_type": "code",
   "execution_count": 1,
   "id": "dfa5fe44",
   "metadata": {},
   "outputs": [
    {
     "name": "stdout",
     "output_type": "stream",
     "text": [
      "Keanu's Estimated Insurance Cost: 29591.0 dollars.\n"
     ]
    }
   ],
   "source": [
    "# Function to estimate insurance cost (example):\n",
    "def estimate_insurance_cost(name, age, sex, bmi, num_of_children, smoker):\n",
    "  estimated_cost = 250*age - 128*sex + 370*bmi + 425*num_of_children + 24000*smoker - 12500\n",
    "  print(name + \"'s Estimated Insurance Cost: \" + str(estimated_cost) + \" dollars.\")\n",
    "  return estimated_cost\n",
    " \n",
    "# Estimate Keanu's insurance cost\n",
    "keanu_insurance_cost = estimate_insurance_cost(name = 'Keanu', age = 29, sex = 1, bmi = 26.2, num_of_children = 3, smoker = 1)"
   ]
  },
  {
   "cell_type": "code",
   "execution_count": 2,
   "id": "1f9182c6",
   "metadata": {},
   "outputs": [],
   "source": [
    "def analyze_smoker(smoker_status):\n",
    "    if smoker_status == 1:\n",
    "        print(\"To lower your cost, you should consider quitting smoking.\")\n",
    "    else:\n",
    "        print(\"Smoking is not an issue for you.\")\n",
    "        \n",
    "        "
   ]
  },
  {
   "cell_type": "code",
   "execution_count": 3,
   "id": "b5548627",
   "metadata": {},
   "outputs": [
    {
     "name": "stdout",
     "output_type": "stream",
     "text": [
      "Keanu's Estimated Insurance Cost: 29591.0 dollars.\n",
      "To lower your cost, you should consider quitting smoking.\n"
     ]
    }
   ],
   "source": [
    "def estimate_insurance_cost(name, age, sex, bmi, num_of_children, smoker):\n",
    "    estimated_cost = 250*age - 128*sex + 370*bmi + 425*num_of_children + 24000*smoker - 12500\n",
    "    print(name + \"'s Estimated Insurance Cost: \" + str(estimated_cost) + \" dollars.\")\n",
    "    analyze_smoker(smoker)\n",
    "    return estimated_cost\n",
    " \n",
    "# Estimate Keanu's insurance cost\n",
    "keanu_insurance_cost = estimate_insurance_cost(name = 'Keanu', age = 29, sex = 1, bmi = 26.2, num_of_children = 3, smoker = 1)"
   ]
  },
  {
   "cell_type": "markdown",
   "id": "b6d64e73",
   "metadata": {},
   "source": [
    "## Analyzing BMI"
   ]
  },
  {
   "cell_type": "markdown",
   "id": "679e27cb",
   "metadata": {},
   "source": [
    "WHO (World Health Organization) nutritional statuses for various BMI ranges:\n",
    "\n",
    "    BMI > 30: obese\n",
    "    BMI >= 25 and bmi <= 30: overweight\n",
    "    BMI >= 18.5 and bmi < 25: normal weight\n",
    "    BMI < 18.5: underweight\n"
   ]
  },
  {
   "cell_type": "code",
   "execution_count": 4,
   "id": "0df43638",
   "metadata": {},
   "outputs": [],
   "source": [
    "def analyze_bmi(bmi_value):\n",
    "    if bmi_value > 30:\n",
    "        print(\"Your BMI is in the obese range. To lower your cost, you should significantly lower your BMI.\")\n",
    "    elif bmi_value >= 25 and bmi_value <= 30:\n",
    "        print(\"Your BMI is in the overweight range. To lower your cost, you should lower your BMI.\")\n",
    "    elif bmi_value >= 18.5 and bmi_value < 25:\n",
    "        print(\"Your BMI is in a healthy range.\")\n",
    "    else:\n",
    "        print(\"Your BMI is in the underweight range. Increasing your BMI will not help lower your cost, but it will help improve your health.\")\n",
    "        "
   ]
  },
  {
   "cell_type": "code",
   "execution_count": 5,
   "id": "db05384a",
   "metadata": {},
   "outputs": [
    {
     "name": "stdout",
     "output_type": "stream",
     "text": [
      "Keanu's Estimated Insurance Cost: 29591.0 dollars.\n",
      "To lower your cost, you should consider quitting smoking.\n",
      "Your BMI is in the overweight range. To lower your cost, you should lower your BMI.\n"
     ]
    }
   ],
   "source": [
    "def estimate_insurance_cost(name, age, sex, bmi, num_of_children, smoker):\n",
    "    estimated_cost = 250*age - 128*sex + 370*bmi + 425*num_of_children + 24000*smoker - 12500\n",
    "    print(name + \"'s Estimated Insurance Cost: \" + str(estimated_cost) + \" dollars.\")\n",
    "    analyze_smoker(smoker)\n",
    "    analyze_bmi(bmi)\n",
    "    return estimated_cost\n",
    " \n",
    "# Estimate Keanu's insurance cost\n",
    "keanu_insurance_cost = estimate_insurance_cost(name = 'Keanu', age = 29, sex = 1, bmi = 26.2, num_of_children = 3, smoker = 1)"
   ]
  },
  {
   "cell_type": "code",
   "execution_count": null,
   "id": "a131a3b3",
   "metadata": {},
   "outputs": [],
   "source": []
  }
 ],
 "metadata": {
  "kernelspec": {
   "display_name": "Python 3 (ipykernel)",
   "language": "python",
   "name": "python3"
  },
  "language_info": {
   "codemirror_mode": {
    "name": "ipython",
    "version": 3
   },
   "file_extension": ".py",
   "mimetype": "text/x-python",
   "name": "python",
   "nbconvert_exporter": "python",
   "pygments_lexer": "ipython3",
   "version": "3.9.13"
  }
 },
 "nbformat": 4,
 "nbformat_minor": 5
}
